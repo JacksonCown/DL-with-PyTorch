{
 "cells": [
  {
   "cell_type": "markdown",
   "id": "78dbba4b",
   "metadata": {},
   "source": [
    "# Tensor Basics\n",
    "- Jackson Cown\n",
    "- 6/7/22\n",
    "\n",
    "\n",
    "- var_t indicates a tensor stored in CPU memory\n",
    "- var_g indicates a tensor stored in GPU memory\n",
    "- var_a indicates a NumPy array stored in CPU memory"
   ]
  },
  {
   "cell_type": "code",
   "execution_count": 3,
   "id": "45d39762",
   "metadata": {},
   "outputs": [],
   "source": [
    "%matplotlib inline\n",
    "from matplotlib import pyplot as plt"
   ]
  },
  {
   "cell_type": "code",
   "execution_count": 4,
   "id": "bd281ae6",
   "metadata": {},
   "outputs": [],
   "source": [
    "import numpy as np\n",
    "\n",
    "import torch\n",
    "import torch.nn as nn\n",
    "import torch.nn.functional as F\n",
    "import torch.optim as optim"
   ]
  },
  {
   "cell_type": "code",
   "execution_count": 5,
   "id": "d14d9d14",
   "metadata": {},
   "outputs": [
    {
     "name": "stdout",
     "output_type": "stream",
     "text": [
      "Cuda Available: True\n"
     ]
    }
   ],
   "source": [
    "print(f'Cuda Available: {torch.cuda.is_available()}')"
   ]
  },
  {
   "cell_type": "markdown",
   "id": "e7e3505f",
   "metadata": {},
   "source": [
    "## Creating Tensors"
   ]
  },
  {
   "cell_type": "markdown",
   "id": "2a87c1e8",
   "metadata": {},
   "source": [
    "#### Starting with native lists"
   ]
  },
  {
   "cell_type": "code",
   "execution_count": 6,
   "id": "70207978",
   "metadata": {},
   "outputs": [
    {
     "name": "stdout",
     "output_type": "stream",
     "text": [
      "Native Python List: [1.0, 2.0, 1.0]\n",
      "\n",
      "First Element: 1.0\n",
      "Second Element: 2.0\n",
      "Third Element: 1.0\n",
      "\n",
      "Updated List: [1.0, 2.0, 3.0]\n",
      "Last Element: 3.0\n"
     ]
    }
   ],
   "source": [
    "# Starting with a basic python list, then moving to torch tensors\n",
    "a_list = [1.0, 2.0, 1.0]\n",
    "print(f'Native Python List: {a_list}\\n')\n",
    "\n",
    "# List index syntax\n",
    "print(f'First Element: {a_list[0]}')\n",
    "print(f'Second Element: {a_list[1]}')\n",
    "print(f'Third Element: {a_list[2]}')\n",
    "\n",
    "# Update Python List\n",
    "a_list[2] = 3.0\n",
    "print(f'\\nUpdated List: {a_list}')\n",
    "print(f'Last Element: {a_list[-1]}')"
   ]
  },
  {
   "cell_type": "markdown",
   "id": "ac4b5914",
   "metadata": {},
   "source": [
    "#### Constructing our first tensors"
   ]
  },
  {
   "cell_type": "code",
   "execution_count": 7,
   "id": "ce9e2a16",
   "metadata": {
    "scrolled": true
   },
   "outputs": [
    {
     "name": "stdout",
     "output_type": "stream",
     "text": [
      "Torch Tensor: tensor([1., 1., 1.])\n",
      "\n",
      "First Element: 1.0\n",
      "Second Element: 1.0\n",
      "Third Element: 1.0\n"
     ]
    }
   ],
   "source": [
    "# Basic torch tensor\n",
    "a_tensor = torch.ones(3) # populate 1d tensor of size 3\n",
    "print(f'Torch Tensor: {a_tensor}\\n')\n",
    "\n",
    "# Tensor index syntax - note that f-strings autoconvert to float\n",
    "print(f'First Element: {a_tensor[0]}')\n",
    "print(f'Second Element: {a_tensor[1]}')\n",
    "print(f'Third Element: {a_tensor[2]}')"
   ]
  },
  {
   "cell_type": "code",
   "execution_count": 8,
   "id": "e2546bf9",
   "metadata": {},
   "outputs": [
    {
     "name": "stdout",
     "output_type": "stream",
     "text": [
      "tensor(1.)\n",
      "1.0\n",
      "\n",
      "Updated Tensor: tensor([1., 1., 2.])\n",
      "Last Element: 2.0\n"
     ]
    }
   ],
   "source": [
    "# Once again, note how the behavior differs without the f-string syntax\n",
    "print(a_tensor[1])\n",
    "print(float(a_tensor[1]))\n",
    "\n",
    "# Indexed assignment for tensors\n",
    "a_tensor[2] = 2.0\n",
    "print(f'\\nUpdated Tensor: {a_tensor}')\n",
    "print(f'Last Element: {a_tensor[-1]}')"
   ]
  },
  {
   "cell_type": "markdown",
   "id": "0f7a2cab",
   "metadata": {},
   "source": [
    "#### Tensor Aside:\n",
    "- PyTorch Tensors allow us to manipulate and maintain collections of floating-point numbers\n",
    "- Tensors can be indexed similar to native Python lists but they function completely differently under the hood.\n",
    "- They provide convenient structure for generating unique intermediate representations of data during the forward process\n",
    "- Tensors are the fundamental building block of PyTorch. By mimicking the numpy API, they provide easy to use representations of floating-point data that allow for highspeed operations on contiguous memory.\n",
    "\n",
    "\n",
    "- A few notable tensor capabilities:\n",
    "    - Ability to perform fast operations on GPUs\n",
    "    - Distribute operations on multiple devices or machines\n",
    "    - Keep track of the computation graph that created the respective tensor, which is essential for AutoGrad\n",
    "\n",
    "\n",
    "#### Essense of Tensors\n",
    "- Torch tensors and numpy arrays are views over contiguous memory blocks containing *unboxed*C numeric types rather than Python objects.\n",
    "    - Each element in a 32-bit (4-byte) float. (Most of the time)\n",
    "    - Storing a 1D tensor of 1,000,000 float numbers will require exactly 4,000,000 contiguous bytes, plus a small overhead for metadata (such as dimensions and numeric type)"
   ]
  },
  {
   "cell_type": "markdown",
   "id": "7d6dc412",
   "metadata": {},
   "source": [
    "#### Example: List of coordinates to represent a geometrical object\n",
    "- 2D triangle with vertices at coordinates (4, 1), (5, 3), and (2, 1)."
   ]
  },
  {
   "cell_type": "code",
   "execution_count": 9,
   "id": "43e70f3a",
   "metadata": {},
   "outputs": [
    {
     "name": "stdout",
     "output_type": "stream",
     "text": [
      "tensor([4., 1., 5., 3., 2., 1.])\n",
      "First Point: (4.0, 1.0)\n"
     ]
    }
   ],
   "source": [
    "# init points of triangle in a simple 1D tensor\n",
    "points = torch.tensor([4.0, 1.0, 5.0, 3.0, 2.0, 1.0])\n",
    "print(points)\n",
    "\n",
    "# Getting coords of first point\n",
    "print(f'First Point: {float(points[0]), float(points[1])}')"
   ]
  },
  {
   "cell_type": "code",
   "execution_count": 10,
   "id": "10d57518",
   "metadata": {},
   "outputs": [
    {
     "name": "stdout",
     "output_type": "stream",
     "text": [
      "tensor([[4., 1.],\n",
      "        [5., 3.],\n",
      "        [2., 1.]])\n",
      "\n",
      "2D array shape: torch.Size([3, 2])\n"
     ]
    }
   ],
   "source": [
    "# init same points of triangle in a 2D tensor by passing in a list of lists\n",
    "points = torch.tensor([[4.0, 1.0], [5.0, 3.0], [2.0, 1.0]])\n",
    "print(points)\n",
    "\n",
    "# Outputing the shape\n",
    "print(f'\\n2D array shape: {points.shape}')"
   ]
  },
  {
   "cell_type": "code",
   "execution_count": 11,
   "id": "dc718290",
   "metadata": {},
   "outputs": [
    {
     "name": "stdout",
     "output_type": "stream",
     "text": [
      "tensor([[0., 0.],\n",
      "        [0., 0.],\n",
      "        [0., 0.]])\n"
     ]
    }
   ],
   "source": [
    "# init a multidimensional Tensor with zeros or ones\n",
    "points = torch.zeros(3, 2)\n",
    "print(points)"
   ]
  },
  {
   "cell_type": "code",
   "execution_count": 12,
   "id": "ec5b3160",
   "metadata": {},
   "outputs": [
    {
     "name": "stdout",
     "output_type": "stream",
     "text": [
      "tensor([[4., 1.],\n",
      "        [5., 3.],\n",
      "        [2., 1.]])\n",
      "\n",
      "Row indexing: tensor([4., 1.])\n",
      "Column indexing: tensor([4., 5., 2.])\n",
      "Item indexing: 1.0\n"
     ]
    }
   ],
   "source": [
    "# Indexing multidimensional tensor\n",
    "points = torch.tensor([[4.0, 1.0], [5.0, 3.0], [2.0, 1.0]])\n",
    "print(points)\n",
    "print(f'\\nRow indexing: {points[0]}')\n",
    "print(f'Column indexing: {points[:, 0]}')\n",
    "print(f'Item indexing: {points[0, 1]}')"
   ]
  },
  {
   "cell_type": "markdown",
   "id": "1595c3c4",
   "metadata": {},
   "source": [
    "#### Tensor views\n",
    "- The output of tensor indexing presents another tensor that represents a different view of the same underlying data.\n",
    "- This change of view avoid computationally wasteful operations, like copying the indexed elements to a new tensor.\n",
    "- In the case of the row index example above, it returns a new 1D tensor with a size of 2, referencing the first row in the ```points``` tensor\n",
    "- More on how tensors are stored and viewed later this chapter"
   ]
  },
  {
   "cell_type": "markdown",
   "id": "c33e6bc5",
   "metadata": {},
   "source": [
    "### Indexing Tensors\n",
    "- Reference"
   ]
  },
  {
   "cell_type": "markdown",
   "id": "21c62ad5",
   "metadata": {},
   "source": [
    "#### Native Python indexing"
   ]
  },
  {
   "cell_type": "code",
   "execution_count": 13,
   "id": "bdbdcd37",
   "metadata": {},
   "outputs": [
    {
     "name": "stdout",
     "output_type": "stream",
     "text": [
      "List of Nums:\n",
      "[0, 1, 2, 3, 4, 5]\n",
      "\n",
      "All Elements: [0, 1, 2, 3, 4, 5]\n",
      "Elements 1 to 4 exclusive: [1, 2, 3]\n",
      "Elements 1 to end of list inclusive: [1, 2, 3, 4, 5]\n",
      "Elements 0 to element 4 exclusive: [0, 1, 2, 3]\n",
      "Elements 0 to last element exclusive: [0, 1, 2, 3, 4]\n",
      "Elements 1 to 4 exclusive, steps of 2: [1, 3]\n"
     ]
    }
   ],
   "source": [
    "# init native python list\n",
    "some_list = list(range(6))\n",
    "print('List of Nums:')\n",
    "print(some_list)\n",
    "\n",
    "print(f'\\nAll Elements: {some_list[:]}')\n",
    "print(f'Elements 1 to 4 exclusive: {some_list[1:4]}')\n",
    "print(f'Elements 1 to end of list inclusive: {some_list[1:]}')\n",
    "print(f'Elements 0 to element 4 exclusive: {some_list[:4]}')\n",
    "print(f'Elements 0 to last element exclusive: {some_list[:-1]}')\n",
    "print(f'Elements 1 to 4 exclusive, steps of 2: {some_list[1:4:2]}')"
   ]
  },
  {
   "cell_type": "markdown",
   "id": "738101fb",
   "metadata": {},
   "source": [
    "#### Torch Tensor Indexing\n",
    "- PyTorch tensors use the same notation as native Python\n",
    "- We can use range indexing for each of the tensor's dimensions"
   ]
  },
  {
   "cell_type": "code",
   "execution_count": 14,
   "id": "8f10c1bb",
   "metadata": {},
   "outputs": [
    {
     "name": "stdout",
     "output_type": "stream",
     "text": [
      "tensor([[4., 1.],\n",
      "        [5., 3.],\n",
      "        [2., 1.]])\n",
      "\n",
      "All rows after the first: \n",
      "tensor([[5., 3.],\n",
      "        [2., 1.]])\n",
      "\n",
      "All rows after the first; all columns: \n",
      "tensor([[5., 3.],\n",
      "        [2., 1.]])\n",
      "\n",
      "All Rows after the first; first column: \n",
      "tensor([5., 2.])\n",
      "\n",
      "Adds a dimension of size 1, just like unsqueeze: \n",
      "tensor([[[4., 1.],\n",
      "         [5., 3.],\n",
      "         [2., 1.]]])\n"
     ]
    }
   ],
   "source": [
    "# using 2D tensor created earlier\n",
    "print(points)\n",
    "\n",
    "print(f'\\nAll rows after the first: \\n{points[1:]}')\n",
    "print(f'\\nAll rows after the first; all columns: \\n{points[1:, :]}')\n",
    "print(f'\\nAll Rows after the first; first column: \\n{points[1:, 0]}')\n",
    "print(f'\\nAdds a dimension of size 1, just like unsqueeze: \\n{points[None]}')"
   ]
  },
  {
   "cell_type": "markdown",
   "id": "27a799fd",
   "metadata": {},
   "source": [
    "#### PyTorch also features a powerful form of indexing, called *advanced indexing*\n",
    "- More on this next chapter"
   ]
  },
  {
   "cell_type": "markdown",
   "id": "e9976644",
   "metadata": {},
   "source": [
    "### Named Tensors\n",
    "- The dimensions of a tensor typically represent something like pixel locations or color channels.\n",
    "- When we want to index into a tensor, we need to remember the ordering of the dimesions and write our indexing accordingly.\n",
    "- Keeping track of dimensions and their orders can be one of the more challenging aspects of PyTorch\n",
    "    - Note: Yea I find this to be one of, if not, the most annoying aspect of programming in pytorch. It would be great to find a way to cope with these difficulties.\n",
    "    \n",
    "\n",
    "#### Image example\n",
    "- Imagine we have a 3D tensor called img_t (image tensor stored in CPU memory)"
   ]
  },
  {
   "cell_type": "code",
   "execution_count": 15,
   "id": "1f27bcce",
   "metadata": {},
   "outputs": [
    {
     "name": "stdout",
     "output_type": "stream",
     "text": [
      "torch.Size([3])\n",
      "torch.Size([1, 3])\n",
      "torch.Size([3, 1])\n"
     ]
    }
   ],
   "source": [
    "# init a 5x5 image with 3 color channels\n",
    "img_t = torch.randn(3, 5, 5) # Shape [channels, rows, columns]\n",
    "# We want to convert it to grayscale img with 1 color channel / 3 identical color channels\n",
    "weights = torch.tensor([0.2126, 0.7152, 0.0722])\n",
    "print(weights.shape)\n",
    "print(weights.unsqueeze(0).shape)\n",
    "print(weights.unsqueeze(1).shape) # Demonstration of tensor unsqueeze behavior"
   ]
  },
  {
   "cell_type": "markdown",
   "id": "985fdf83",
   "metadata": {},
   "source": [
    "#### Naive methods of converting an image to grayscale"
   ]
  },
  {
   "cell_type": "code",
   "execution_count": 16,
   "id": "bc09a437",
   "metadata": {},
   "outputs": [
    {
     "name": "stdout",
     "output_type": "stream",
     "text": [
      "torch.Size([5, 5]) torch.Size([2, 5, 5])\n"
     ]
    }
   ],
   "source": [
    "# batches\n",
    "batch_t = torch.randn(2, 3, 5, 5) # Shape [batch, channels, rows, columns]\n",
    "# Its important to make a distinction between the location of the batch and channels dimension. Sometimes the color channel\n",
    "# is in the zero index and sometimes the batch is located at index 0\n",
    "\n",
    "# I prefer to have the shape be [batch, channels, rows, columns]\n",
    "# In order to generalize for either case, we can access the row and column indices from the back of the shape:\n",
    "img_gray_naive = img_t.mean(-3)\n",
    "batch_gray_naive = batch_t.mean(-3)\n",
    "print(img_gray_naive.shape, batch_gray_naive.shape)"
   ]
  },
  {
   "cell_type": "markdown",
   "id": "60b65b56",
   "metadata": {},
   "source": [
    "#### Better way to convert to grayscale\n",
    "- PyTorch allows us to multiply things that are the same shape, as well as shapes where one operand is of size 1 in a given dimension.\n",
    "- It also appends leading dimensions of size 1 automatically.\n",
    "    - This feature is called *broadcasting*.\n",
    "\n",
    "\n",
    "- ```batch_t``` of shape (2, 3, 5, 5) is multiplied by ```unsqueezed_weights``` of shape (3, 1, 1) resulting in a tensor of shape (2, 3, 5, 5), from which we can then sum the third dimension from the end (the three channels):\n",
    "    "
   ]
  },
  {
   "cell_type": "code",
   "execution_count": 17,
   "id": "c15cbaa3",
   "metadata": {},
   "outputs": [
    {
     "name": "stdout",
     "output_type": "stream",
     "text": [
      "torch.Size([3])\n",
      "tensor([[[0.2126]],\n",
      "\n",
      "        [[0.7152]],\n",
      "\n",
      "        [[0.0722]]])\n",
      "torch.Size([3, 1, 1])\n"
     ]
    }
   ],
   "source": [
    "print(weights.shape)\n",
    "unsqueezed_weights = weights.unsqueeze(-1).unsqueeze_(-1)\n",
    "print(unsqueezed_weights)\n",
    "print(unsqueezed_weights.shape)"
   ]
  },
  {
   "cell_type": "code",
   "execution_count": 18,
   "id": "8d1403af",
   "metadata": {},
   "outputs": [
    {
     "name": "stdout",
     "output_type": "stream",
     "text": [
      "tensor([0.2126, 0.7152, 0.0722])\n",
      "torch.Size([3])\n",
      "\n",
      "tensor([[0.2126],\n",
      "        [0.7152],\n",
      "        [0.0722]])\n",
      "torch.Size([3, 1])\n",
      "\n",
      "tensor([[[0.2126]],\n",
      "\n",
      "        [[0.7152]],\n",
      "\n",
      "        [[0.0722]]])\n",
      "torch.Size([3, 1, 1])\n",
      "\n",
      "tensor([[[0.2126]],\n",
      "\n",
      "        [[0.7152]],\n",
      "\n",
      "        [[0.0722]]])\n",
      "torch.Size([3, 1, 1])\n"
     ]
    }
   ],
   "source": [
    "print(weights)\n",
    "print(weights.shape)\n",
    "print()\n",
    "print(weights.unsqueeze(-1))\n",
    "print(weights.unsqueeze(-1).shape)\n",
    "print()\n",
    "print(weights.unsqueeze(-1).unsqueeze(-1))\n",
    "print(weights.unsqueeze(-1).unsqueeze(-1).shape)\n",
    "print()\n",
    "print(weights.unsqueeze(-1).unsqueeze_(-1))\n",
    "print(weights.unsqueeze(-1).unsqueeze_(-1).shape)"
   ]
  },
  {
   "attachments": {
    "image.png": {
     "image/png": "[encoded data removed]"
    }
   },
   "cell_type": "markdown",
   "id": "506ee3ed",
   "metadata": {},
   "source": [
    "![image.png](attachment:image.png)\n",
    "\n",
    "- torch tensors follow the same semantics and numpy arrays for broadcasting"
   ]
  },
  {
   "cell_type": "code",
   "execution_count": 19,
   "id": "bf5c8691",
   "metadata": {},
   "outputs": [
    {
     "name": "stdout",
     "output_type": "stream",
     "text": [
      "Batch Weights Shape: torch.Size([2, 3, 5, 5])\n",
      "Batch Shape: torch.Size([2, 3, 5, 5])\n",
      "Unsqueezed Weights Shape: torch.Size([3, 1, 1])\n",
      "\n",
      "unsqueezed_weights is compatible for element wise operations on both batch and single images\n"
     ]
    }
   ],
   "source": [
    "# ok now im actually gonna convert to grayscale\n",
    "unsqueezed_weights = weights.unsqueeze(-1).unsqueeze_(-1)\n",
    "img_weights = (img_t * unsqueezed_weights)\n",
    "batch_weights = (batch_t * unsqueezed_weights)\n",
    "img_gray_weighted = img_weights.sum(-3) # Sum along color channel\n",
    "batch_gray_weights = batch_weights.sum(-3)\n",
    "#print(batch_weights.shape, batch_t.shape, unsqueezed_weights.shape)\n",
    "print(f'Batch Weights Shape: {batch_weights.shape}')\n",
    "print(f'Batch Shape: {batch_t.shape}')\n",
    "print(f'Unsqueezed Weights Shape: {unsqueezed_weights.shape}')\n",
    "print('\\nunsqueezed_weights is compatible for element wise operations on both batch and single images') # Yea we printing"
   ]
  },
  {
   "cell_type": "markdown",
   "id": "ec7b0086",
   "metadata": {},
   "source": [
    "#### Einstein Summation Function\n"
   ]
  },
  {
   "cell_type": "code",
   "execution_count": 20,
   "id": "b4aa36c1",
   "metadata": {},
   "outputs": [
    {
     "name": "stdout",
     "output_type": "stream",
     "text": [
      "tensor([[0, 1, 2],\n",
      "        [3, 4, 5]])\n",
      "torch.Size([2, 3])\n"
     ]
    }
   ],
   "source": [
    "a = torch.arange(6).reshape(2, 3)\n",
    "print(a)\n",
    "print(a.shape)"
   ]
  },
  {
   "attachments": {
    "image.png": {
     "image/png": "[encoded data removed]"
    }
   },
   "cell_type": "markdown",
   "id": "8693ebd4",
   "metadata": {},
   "source": [
    "![image.png](attachment:image.png)"
   ]
  },
  {
   "cell_type": "code",
   "execution_count": 21,
   "id": "76387a04",
   "metadata": {},
   "outputs": [
    {
     "name": "stdout",
     "output_type": "stream",
     "text": [
      "tensor([[0, 3],\n",
      "        [1, 4],\n",
      "        [2, 5]])\n",
      "torch.Size([3, 2])\n"
     ]
    }
   ],
   "source": [
    "# Transpose\n",
    "a_transpose = torch.einsum('ij->ji', a)\n",
    "print(a_transpose)\n",
    "print(a_transpose.shape)"
   ]
  },
  {
   "attachments": {
    "image.png": {
     "image/png": "[encoded data removed]"
    }
   },
   "cell_type": "markdown",
   "id": "fe97e97f",
   "metadata": {},
   "source": [
    "![image.png](attachment:image.png)"
   ]
  },
  {
   "cell_type": "code",
   "execution_count": 22,
   "id": "bfd88607",
   "metadata": {},
   "outputs": [
    {
     "name": "stdout",
     "output_type": "stream",
     "text": [
      "tensor(15)\n",
      "torch.Size([])\n"
     ]
    }
   ],
   "source": [
    "# Sum\n",
    "a_sum = torch.einsum('ij->', a)\n",
    "print(a_sum)\n",
    "print(a_sum.shape)"
   ]
  },
  {
   "attachments": {
    "image.png": {
     "image/png": "[encoded data removed]"
    }
   },
   "cell_type": "markdown",
   "id": "8e867be3",
   "metadata": {},
   "source": [
    "![image.png](attachment:image.png)"
   ]
  },
  {
   "cell_type": "code",
   "execution_count": 23,
   "id": "06a75e00",
   "metadata": {},
   "outputs": [
    {
     "name": "stdout",
     "output_type": "stream",
     "text": [
      "tensor([ 3, 12])\n",
      "torch.Size([2])\n"
     ]
    }
   ],
   "source": [
    "# Column sum\n",
    "a_colsum = torch.einsum('ij->i', a)\n",
    "print(a_colsum)\n",
    "print(a_colsum.shape)"
   ]
  },
  {
   "attachments": {
    "image.png": {
     "image/png": "[encoded data removed]"
    }
   },
   "cell_type": "markdown",
   "id": "a8bb6996",
   "metadata": {},
   "source": [
    "![image.png](attachment:image.png)"
   ]
  },
  {
   "cell_type": "code",
   "execution_count": 24,
   "id": "857e9c0d",
   "metadata": {},
   "outputs": [
    {
     "name": "stdout",
     "output_type": "stream",
     "text": [
      "tensor([3, 5, 7])\n",
      "torch.Size([3])\n"
     ]
    }
   ],
   "source": [
    "# Row sum\n",
    "a_rowsum = torch.einsum('ij->j', a)\n",
    "print(a_rowsum)\n",
    "print(a_rowsum.shape)"
   ]
  },
  {
   "attachments": {
    "image.png": {
     "image/png": "[encoded data removed]"
    }
   },
   "cell_type": "markdown",
   "id": "066802b7",
   "metadata": {},
   "source": [
    "![image.png](attachment:image.png)"
   ]
  },
  {
   "cell_type": "code",
   "execution_count": 25,
   "id": "9a97ed5a",
   "metadata": {},
   "outputs": [
    {
     "name": "stdout",
     "output_type": "stream",
     "text": [
      "tensor([0, 1, 2])\n",
      "\n",
      "tensor([ 5, 14])\n",
      "torch.Size([2])\n"
     ]
    }
   ],
   "source": [
    "# Matrix vector multiplication\n",
    "b = torch.arange(3)\n",
    "print(b)\n",
    "\n",
    "print()\n",
    "\n",
    "a_mul = torch.einsum('ik, k->i', a, b)\n",
    "print(a_mul)\n",
    "print(a_mul.shape)"
   ]
  },
  {
   "attachments": {
    "image.png": {
     "image/png": "[encoded data removed]"
    }
   },
   "cell_type": "markdown",
   "id": "ff14a5ad",
   "metadata": {},
   "source": [
    "![image.png](attachment:image.png)"
   ]
  },
  {
   "cell_type": "code",
   "execution_count": 26,
   "id": "167458cd",
   "metadata": {},
   "outputs": [
    {
     "name": "stdout",
     "output_type": "stream",
     "text": [
      "torch.Size([2, 3]) torch.Size([3, 5])\n",
      "\n",
      "tensor([[ 25,  28,  31,  34,  37],\n",
      "        [ 70,  82,  94, 106, 118]])\n",
      "torch.Size([2, 5])\n"
     ]
    }
   ],
   "source": [
    "# Matrix matrix multiplication\n",
    "c = torch.arange(15).reshape(3,5)\n",
    "print(a.shape, c.shape)\n",
    "\n",
    "print()\n",
    "\n",
    "a_matmul = torch.einsum('ik, kj->ij', a, c)\n",
    "print(a_matmul)\n",
    "print(a_matmul.shape)"
   ]
  },
  {
   "attachments": {
    "image.png": {
     "image/png": "[encoded data removed]"
    }
   },
   "cell_type": "markdown",
   "id": "52d72e41",
   "metadata": {},
   "source": [
    "![image.png](attachment:image.png)"
   ]
  },
  {
   "cell_type": "code",
   "execution_count": 27,
   "id": "278a03ec",
   "metadata": {},
   "outputs": [
    {
     "name": "stdout",
     "output_type": "stream",
     "text": [
      "tensor([0, 1, 2])\n",
      "tensor([3, 4, 5])\n",
      "\n",
      "tensor(14)\n"
     ]
    }
   ],
   "source": [
    "# Dot product\n",
    "a_vector = torch.arange(3)\n",
    "b_vector = torch.arange(3, 6) # Vector length 3 containing up to 6 exclusive\n",
    "print(a_vector)\n",
    "print(b_vector)\n",
    "\n",
    "print()\n",
    "\n",
    "a_dot = torch.einsum('i, i->', a_vector, b_vector)\n",
    "print(a_dot)\n"
   ]
  },
  {
   "attachments": {
    "image.png": {
     "image/png": "[encoded data removed]"
    }
   },
   "cell_type": "markdown",
   "id": "368f7708",
   "metadata": {},
   "source": [
    "![image.png](attachment:image.png)"
   ]
  },
  {
   "cell_type": "code",
   "execution_count": 28,
   "id": "96d4ea84",
   "metadata": {},
   "outputs": [
    {
     "name": "stdout",
     "output_type": "stream",
     "text": [
      "tensor([[0, 1, 2],\n",
      "        [3, 4, 5]]) \n",
      "\n",
      "tensor([[ 6,  7,  8],\n",
      "        [ 9, 10, 11]]) \n",
      "\n",
      "tensor(145)\n"
     ]
    }
   ],
   "source": [
    "# Matrix dot product\n",
    "b = torch.arange(6,12).reshape(2, 3)\n",
    "print(a, '\\n')\n",
    "print(b, '\\n')\n",
    "\n",
    "a_matdot = torch.einsum('ij, ij->', a, b)\n",
    "print(a_matdot)"
   ]
  },
  {
   "attachments": {
    "image.png": {
     "image/png": "[encoded data removed]"
    }
   },
   "cell_type": "markdown",
   "id": "036b4059",
   "metadata": {},
   "source": [
    "![image.png](attachment:image.png)"
   ]
  },
  {
   "cell_type": "code",
   "execution_count": 29,
   "id": "701f3a3a",
   "metadata": {},
   "outputs": [
    {
     "name": "stdout",
     "output_type": "stream",
     "text": [
      "tensor([[ 0,  7, 16],\n",
      "        [27, 40, 55]])\n"
     ]
    }
   ],
   "source": [
    "# Hadamard Product\n",
    "a_hadamard = torch.einsum('ij, ij->ij', a, b)\n",
    "print(a_hadamard)"
   ]
  },
  {
   "attachments": {
    "image.png": {
     "image/png": "[encoded data removed]"
    }
   },
   "cell_type": "markdown",
   "id": "ec8f9af5",
   "metadata": {},
   "source": [
    "![image.png](attachment:image.png)"
   ]
  },
  {
   "cell_type": "code",
   "execution_count": 30,
   "id": "08bb447b",
   "metadata": {},
   "outputs": [
    {
     "name": "stdout",
     "output_type": "stream",
     "text": [
      "tensor([0, 1, 2]) \n",
      "\n",
      "tensor([3, 4, 5]) \n",
      "\n",
      "tensor([[ 0,  0,  0],\n",
      "        [ 3,  4,  5],\n",
      "        [ 6,  8, 10]])\n"
     ]
    }
   ],
   "source": [
    "# Outer Product\n",
    "print(a_vector, '\\n')\n",
    "print(b_vector, '\\n')\n",
    "\n",
    "a_outer = torch.einsum('i, j->ij', a_vector, b_vector)\n",
    "print(a_outer)"
   ]
  },
  {
   "attachments": {
    "image.png": {
     "image/png": "[encoded data removed]"
    }
   },
   "cell_type": "markdown",
   "id": "b49cd5c3",
   "metadata": {},
   "source": [
    "![image.png](attachment:image.png)"
   ]
  },
  {
   "cell_type": "code",
   "execution_count": 31,
   "id": "b76bd872",
   "metadata": {},
   "outputs": [
    {
     "name": "stdout",
     "output_type": "stream",
     "text": [
      "tensor([[[-0.6051, -0.0862,  1.6353,  0.1652, -0.4355],\n",
      "         [ 0.8858, -1.0145, -1.0030,  0.1738,  0.6732]],\n",
      "\n",
      "        [[-0.6320, -0.8165, -0.5107, -0.2458,  0.3113],\n",
      "         [-0.9841,  1.3232,  0.3671, -0.3560,  0.7371]],\n",
      "\n",
      "        [[ 0.3139, -0.6715,  1.2516,  0.0695, -1.5187],\n",
      "         [-1.3908,  1.2496, -0.3872,  1.3662,  0.1783]]])\n",
      "torch.Size([3, 2, 5]) \n",
      "\n",
      "tensor([[[ 1.1995, -1.5869, -1.4484],\n",
      "         [ 0.8316,  0.3894,  0.1681],\n",
      "         [-1.7846, -0.3605,  0.8054],\n",
      "         [ 0.8843,  0.4662,  1.7774],\n",
      "         [ 0.2646, -0.3099, -0.0305]],\n",
      "\n",
      "        [[-0.5558, -0.8479, -0.6455],\n",
      "         [-1.2784, -0.3630,  0.1078],\n",
      "         [-0.5196,  1.3955, -0.4097],\n",
      "         [-0.2447,  1.8690,  0.5272],\n",
      "         [-0.7788,  0.3747, -0.4393]],\n",
      "\n",
      "        [[ 1.0190, -0.7333,  0.0635],\n",
      "         [ 1.3880, -0.2514, -0.6949],\n",
      "         [ 1.0774,  1.4195,  0.8012],\n",
      "         [ 1.1227, -0.5615, -1.1497],\n",
      "         [-0.0864,  0.9418,  0.5178]]])\n",
      "torch.Size([3, 5, 3]) \n",
      "\n",
      "tensor([[[-3.6850,  0.5491,  2.4859],\n",
      "         [ 2.3406, -1.5668, -1.9730]],\n",
      "\n",
      "        [[ 1.4781, -0.2231,  0.2629],\n",
      "         [-1.8223,  0.4773,  0.1160]],\n",
      "\n",
      "        [[ 0.9457,  0.2458,  0.6230],\n",
      "         [ 1.4185, -0.4432, -2.7453]]])\n",
      "torch.Size([3, 2, 3])\n"
     ]
    }
   ],
   "source": [
    "# Batch Matrix Multiplication\n",
    "a_batch = torch.randn(3, 2, 5)\n",
    "b_batch = torch.randn(3, 5, 3)\n",
    "print(a_batch)\n",
    "print(a_batch.shape, '\\n')\n",
    "print(b_batch)\n",
    "print(b_batch.shape, '\\n')\n",
    "\n",
    "a_batchmul = torch.einsum('ijk, ikl->ijl', a_batch, b_batch)\n",
    "print(a_batchmul)\n",
    "print(a_batchmul.shape)"
   ]
  },
  {
   "cell_type": "code",
   "execution_count": 37,
   "id": "0be19062",
   "metadata": {},
   "outputs": [
    {
     "name": "stdout",
     "output_type": "stream",
     "text": [
      "tensor([[-1.3157, -0.1408, -1.0780,  1.1764, -0.6659],\n",
      "        [ 1.2547, -1.5619,  1.5806, -0.8269,  0.2320],\n",
      "        [-0.7949, -0.6535, -0.2229, -0.8590, -1.4069],\n",
      "        [ 0.1547, -0.8630, -0.3894, -1.0762,  0.3659],\n",
      "        [-0.5927,  0.8793, -0.5945, -0.0228,  1.2595]])\n",
      "torch.Size([5, 5]) \n",
      "\n",
      "tensor([[[ 1.5581, -1.7106, -1.2660, -0.2895, -1.5028],\n",
      "         [-0.4363, -0.4630,  0.7001, -0.3188,  1.2961],\n",
      "         [ 0.0252, -0.2465, -0.0400,  0.7709,  0.9173],\n",
      "         [ 0.2314,  0.2404, -0.5390, -1.5602,  0.3119],\n",
      "         [ 0.1370, -0.4181, -1.6874,  0.0759,  1.0301]],\n",
      "\n",
      "        [[-0.2299, -0.0041, -0.1931, -0.3491, -0.1355],\n",
      "         [-0.7997,  0.2150, -0.0206, -1.4462,  1.2097],\n",
      "         [-0.6970, -1.1173,  0.4360, -0.0616,  0.7243],\n",
      "         [-0.1251, -0.2123, -1.3574, -0.0101,  0.5956],\n",
      "         [-0.0876, -0.7872,  0.7297, -0.7987,  0.6343]]])\n",
      "torch.Size([2, 5, 5]) \n",
      "\n"
     ]
    }
   ],
   "source": [
    "# Einsum for making gray image\n",
    "img_gray_weighted_fancy = torch.einsum('...chw, c->...hw', img_t, weights)\n",
    "print(img_gray_weighted_fancy)\n",
    "print(img_gray_weighted_fancy.shape, '\\n')\n",
    "\n",
    "# Einsum for collapsing channel dimension with weights\n",
    "batch_gray_weighted_fancy = torch.einsum('...chw, c->...hw', batch_t, weights)\n",
    "print(batch_gray_weighted_fancy)\n",
    "print(batch_gray_weighted_fancy.shape, '\\n')"
   ]
  },
  {
   "cell_type": "code",
   "execution_count": 40,
   "id": "a6cb6801",
   "metadata": {},
   "outputs": [
    {
     "name": "stdout",
     "output_type": "stream",
     "text": [
      "tensor([0.2126, 0.7152, 0.0722], names=('channels',))\n",
      "torch.Size([3]) \n",
      "\n"
     ]
    }
   ],
   "source": [
    "# Named Tensors\n",
    "weights_named = torch.tensor([0.2126, 0.7152, 0.0722], names=('channels',))\n",
    "print(weights_named)\n",
    "print(weights_named.shape)"
   ]
  },
  {
   "cell_type": "code",
   "execution_count": 45,
   "id": "d58fd0e0",
   "metadata": {},
   "outputs": [
    {
     "name": "stdout",
     "output_type": "stream",
     "text": [
      "tensor([[[-0.5922, -0.2381,  0.5419,  0.5904, -0.8314],\n",
      "         [-0.3323, -0.6116,  1.1729, -1.2877, -0.2341],\n",
      "         [ 0.4572,  0.1588, -0.2587,  1.3680, -3.2099],\n",
      "         [ 1.4218, -1.0187, -0.9154, -0.0442,  0.5682],\n",
      "         [-0.9355,  0.8880, -0.5391, -0.0806, -0.7704]],\n",
      "\n",
      "        [[-1.7058, -0.0295, -1.6517,  1.4102, -0.6704],\n",
      "         [ 1.8816, -2.2414,  1.7451, -0.8311,  0.4881],\n",
      "         [-1.3588, -1.0116, -0.2102, -1.6629, -0.9700],\n",
      "         [-0.1743, -1.0151, -0.2158, -1.4862,  0.3765],\n",
      "         [-0.6072,  1.0190, -0.7400,  0.1345,  2.1095]],\n",
      "\n",
      "        [[ 0.4189, -0.9574, -0.1640,  0.5867, -0.1338],\n",
      "         [-0.2822,  2.3710,  1.1510,  0.5709, -0.9332],\n",
      "         [ 1.1038,  0.5015, -0.2436,  0.5468, -0.4255],\n",
      "         [-0.3172,  1.1028, -0.5605, -0.0526, -0.3350],\n",
      "         [ 0.5599, -0.5301,  0.6831, -1.4100, -1.1826]]],\n",
      "       names=('channels', 'rows', 'columns'))\n",
      "torch.Size([3, 5, 5]) \n",
      "\n",
      "tensor([[[[ 5.9240e-01, -1.2329e+00,  3.1788e-01,  2.8797e-01,  4.7813e-01],\n",
      "          [-5.5259e-01,  3.6134e-01,  7.1124e-01,  5.8953e-01,  5.4509e-01],\n",
      "          [ 1.5825e+00,  3.9065e-01,  1.2295e+00,  1.3963e+00, -3.6725e-01],\n",
      "          [ 1.4259e-01, -3.7720e-01, -9.5613e-01, -1.7913e+00,  1.8244e+00],\n",
      "          [-1.2030e-01, -5.2032e-01, -2.1076e+00, -1.5300e-01,  3.0347e+00]],\n",
      "\n",
      "         [[ 1.9676e+00, -1.8738e+00, -1.8975e+00, -4.8499e-01, -2.3276e+00],\n",
      "          [-3.9530e-01, -9.5731e-01,  6.0543e-01, -5.0868e-01,  1.7271e+00],\n",
      "          [-4.1520e-01, -3.8823e-01, -3.5745e-01,  5.2846e-01,  1.3645e+00],\n",
      "          [ 4.3359e-01,  3.4728e-01, -5.5715e-01, -1.6615e+00, -7.8193e-03],\n",
      "          [ 2.5573e-01, -3.6621e-01, -1.7136e+00,  1.1639e-01,  5.1011e-01]],\n",
      "\n",
      "         [[ 3.4500e-01, -1.5012e+00,  3.2643e-01, -5.3867e-02,  8.3443e-01],\n",
      "          [-4.9937e-01,  2.0063e+00,  1.6057e+00, -1.1131e+00, -7.6094e-01],\n",
      "          [-1.9717e-01, -7.1863e-01, -6.3359e-01,  1.3302e+00,  2.7044e-01],\n",
      "          [-1.5101e+00,  1.0009e+00,  8.6963e-01,  1.2418e-01, -9.7517e-01],\n",
      "          [-2.8190e-01, -6.3080e-01, -1.9088e-01,  3.4828e-01,  2.7786e-01]]],\n",
      "\n",
      "\n",
      "        [[[-8.0035e-02, -7.9436e-04, -4.3067e-01,  7.5097e-01, -1.6086e+00],\n",
      "          [-3.0647e-01,  3.4828e-02, -2.3327e-01,  1.1513e+00,  8.8747e-01],\n",
      "          [-2.0096e+00, -9.1195e-01, -2.7570e-01, -7.9650e-01,  1.0676e+00],\n",
      "          [ 2.0112e+00, -5.8216e-01, -2.3654e-01,  6.0673e-01,  1.7255e+00],\n",
      "          [ 7.9955e-01, -1.2882e+00,  1.0057e+00, -8.4337e-01, -1.5483e+00]],\n",
      "\n",
      "         [[-3.0705e-01,  6.7172e-02, -9.1442e-02, -5.1477e-01,  8.8406e-02],\n",
      "          [-1.1083e+00,  3.5932e-01,  9.4912e-03, -2.3520e+00,  1.3718e+00],\n",
      "          [-3.0054e-01, -1.0791e+00,  5.0287e-01,  2.2319e-01,  5.6263e-01],\n",
      "          [-6.4825e-01, -8.0194e-02, -1.7415e+00, -1.6664e-01,  3.0165e-01],\n",
      "          [-3.3218e-01, -8.2023e-01,  6.7397e-01, -6.1304e-01,  1.3452e+00]],\n",
      "\n",
      "         [[ 9.3366e-02, -7.2040e-01, -5.0106e-01, -1.9477e+00,  1.9835e+00],\n",
      "          [ 8.0477e-01, -6.8422e-01,  3.0796e-01, -1.2178e-01,  5.5315e-01],\n",
      "          [-7.5908e-01, -2.1008e+00,  1.8700e+00, -7.1836e-01,  1.3153e+00],\n",
      "          [-1.2333e+00, -4.3188e-01, -8.5357e-01, -2.7528e-01,  1.8083e-01],\n",
      "          [-2.7654e-01,  1.0154e+00,  4.6886e-01, -2.5062e+00,  1.9414e-02]]]],\n",
      "       names=(None, 'channels', 'rows', 'columns'))\n",
      "torch.Size([2, 3, 5, 5])\n"
     ]
    }
   ],
   "source": [
    "# We can add a name to an existing tensor with the refine_names() function\n",
    "img_named = img_t.refine_names(..., 'channels', 'rows', 'columns')\n",
    "print(img_named)\n",
    "print(img_named.shape, '\\n')\n",
    "\n",
    "batch_named = batch_t.refine_names(..., 'channels', 'rows', 'columns')\n",
    "print(batch_named)\n",
    "print(batch_named.shape)"
   ]
  },
  {
   "cell_type": "code",
   "execution_count": 51,
   "id": "2775f50f",
   "metadata": {},
   "outputs": [
    {
     "name": "stdout",
     "output_type": "stream",
     "text": [
      "torch.Size([3])\n",
      "tensor([[[0.2126]],\n",
      "\n",
      "        [[0.7152]],\n",
      "\n",
      "        [[0.0722]]], names=('channels', 'rows', 'columns'))\n",
      "torch.Size([3, 1, 1])\n"
     ]
    }
   ],
   "source": [
    "# Aligning weights with img dimension using align_as\n",
    "weights_aligned = weights_named.align_as(img_named)\n",
    "print(weights_named.shape)\n",
    "print(weights_aligned)\n",
    "print(weights_aligned.shape)\n",
    "# Aligning automatically expands the dimensions for for broadcasting"
   ]
  },
  {
   "cell_type": "code",
   "execution_count": 52,
   "id": "b37591b3",
   "metadata": {},
   "outputs": [
    {
     "name": "stdout",
     "output_type": "stream",
     "text": [
      "tensor([[-1.3157, -0.1408, -1.0780,  1.1764, -0.6659],\n",
      "        [ 1.2547, -1.5619,  1.5806, -0.8269,  0.2320],\n",
      "        [-0.7949, -0.6535, -0.2229, -0.8590, -1.4069],\n",
      "        [ 0.1547, -0.8630, -0.3894, -1.0762,  0.3659],\n",
      "        [-0.5927,  0.8793, -0.5945, -0.0228,  1.2595]],\n",
      "       names=('rows', 'columns'))\n",
      "torch.Size([5, 5])\n"
     ]
    }
   ],
   "source": [
    "# Computing gray image\n",
    "gray_named = (img_named * weights_aligned).sum('channels')\n",
    "print(gray_named)\n",
    "print(gray_named.shape)"
   ]
  },
  {
   "cell_type": "markdown",
   "id": "434dd8ca",
   "metadata": {},
   "source": [
    "If we want to use named tensors outside of functions that operate only on named tensors, drop the names by renaming them to ```None```."
   ]
  },
  {
   "cell_type": "code",
   "execution_count": 54,
   "id": "c84d7dcb",
   "metadata": {},
   "outputs": [
    {
     "name": "stdout",
     "output_type": "stream",
     "text": [
      "tensor([[-1.3157, -0.1408, -1.0780,  1.1764, -0.6659],\n",
      "        [ 1.2547, -1.5619,  1.5806, -0.8269,  0.2320],\n",
      "        [-0.7949, -0.6535, -0.2229, -0.8590, -1.4069],\n",
      "        [ 0.1547, -0.8630, -0.3894, -1.0762,  0.3659],\n",
      "        [-0.5927,  0.8793, -0.5945, -0.0228,  1.2595]])\n",
      "torch.Size([5, 5])\n",
      "(None, None)\n"
     ]
    }
   ],
   "source": [
    "gray_plain = gray_named.rename(None)\n",
    "print(gray_plain)\n",
    "print(gray_plain.shape)\n",
    "print(gray_plain.names)"
   ]
  },
  {
   "cell_type": "markdown",
   "id": "22b56f7a",
   "metadata": {},
   "source": [
    "#### Managing Tensor Datatype\n",
    "- Default constructor dtype is float32"
   ]
  },
  {
   "cell_type": "code",
   "execution_count": 59,
   "id": "c10e7cb5",
   "metadata": {},
   "outputs": [
    {
     "name": "stdout",
     "output_type": "stream",
     "text": [
      "tensor([[1., 1.],\n",
      "        [1., 1.],\n",
      "        [1., 1.],\n",
      "        [1., 1.],\n",
      "        [1., 1.],\n",
      "        [1., 1.],\n",
      "        [1., 1.],\n",
      "        [1., 1.],\n",
      "        [1., 1.],\n",
      "        [1., 1.]], dtype=torch.float64) \n",
      "\n",
      "tensor([[1, 2],\n",
      "        [3, 4]], dtype=torch.int16) \n",
      "\n"
     ]
    }
   ],
   "source": [
    "# Specifying dtype\n",
    "double_points = torch.ones(10, 2, dtype=torch.double)\n",
    "print(double_points, '\\n')\n",
    "\n",
    "short_points = torch.tensor([[1, 2], [3, 4]], dtype=torch.short)\n",
    "print(short_points, '\\n')"
   ]
  },
  {
   "cell_type": "code",
   "execution_count": 64,
   "id": "40428027",
   "metadata": {},
   "outputs": [
    {
     "name": "stdout",
     "output_type": "stream",
     "text": [
      "tensor([[0., 0.],\n",
      "        [0., 0.],\n",
      "        [0., 0.],\n",
      "        [0., 0.],\n",
      "        [0., 0.],\n",
      "        [0., 0.],\n",
      "        [0., 0.],\n",
      "        [0., 0.],\n",
      "        [0., 0.],\n",
      "        [0., 0.]], dtype=torch.float64) \n",
      "\n",
      "tensor([[1, 2],\n",
      "        [3, 4]], dtype=torch.int16) \n",
      "\n"
     ]
    }
   ],
   "source": [
    "# We can type cast them directly\n",
    "double_points = torch.zeros(10, 2).double() # Direct conversion\n",
    "short_points = torch.tensor([[1, 2], [3, 4]]).short()\n",
    "print(double_points, '\\n')\n",
    "print(short_points, '\\n')"
   ]
  },
  {
   "cell_type": "code",
   "execution_count": 67,
   "id": "40e56413",
   "metadata": {},
   "outputs": [
    {
     "name": "stdout",
     "output_type": "stream",
     "text": [
      "tensor([[0., 0.],\n",
      "        [0., 0.],\n",
      "        [0., 0.],\n",
      "        [0., 0.],\n",
      "        [0., 0.],\n",
      "        [0., 0.],\n",
      "        [0., 0.],\n",
      "        [0., 0.],\n",
      "        [0., 0.],\n",
      "        [0., 0.]], dtype=torch.float64) \n",
      "\n",
      "tensor([[1, 2],\n",
      "        [3, 4]], dtype=torch.int16) \n",
      "\n"
     ]
    }
   ],
   "source": [
    "# We can also cast using the .to(dtype) method of the torch tensor class\n",
    "double_points = torch.zeros(10, 2).to(torch.double)\n",
    "short_points = torch.tensor([[1, 2], [3, 4]]).to(dtype=torch.short)\n",
    "print(double_points, '\\n')\n",
    "print(short_points, '\\n')"
   ]
  },
  {
   "cell_type": "markdown",
   "id": "8c197f87",
   "metadata": {},
   "source": [
    "#### Aside on the tensor.to() method\n",
    "- ```to``` checks fif the conversion is necessary and, if so, does it\n",
    "- The ```to``` method can also take additional arguments which will be discussed in Ch. 3.9"
   ]
  },
  {
   "cell_type": "markdown",
   "id": "141bb693",
   "metadata": {},
   "source": [
    "### The tensor API\n",
    "- Vast majority of operations between tensors are available in the ```torch``` module and can be called as methods from tensor objects."
   ]
  },
  {
   "cell_type": "code",
   "execution_count": 75,
   "id": "a4f832f0",
   "metadata": {},
   "outputs": [
    {
     "name": "stdout",
     "output_type": "stream",
     "text": [
      "tensor([[0, 1, 2],\n",
      "        [3, 4, 5]]) \n",
      "\n",
      "tensor([[0, 3],\n",
      "        [1, 4],\n",
      "        [2, 5]]) \n",
      "\n",
      "tensor([[0, 3],\n",
      "        [1, 4],\n",
      "        [2, 5]])\n"
     ]
    }
   ],
   "source": [
    "# Transpose\n",
    "a = torch.arange(6).reshape(2, 3)\n",
    "print(a, '\\n')\n",
    "a_transpose = a.transpose(0, 1)\n",
    "print(a_transpose, '\\n')\n",
    "\n",
    "# or\n",
    "a_transpose1 = torch.transpose(a, 0, 1)\n",
    "print(a_transpose1)\n",
    "# They are the same."
   ]
  },
  {
   "cell_type": "markdown",
   "id": "4e423cc8",
   "metadata": {},
   "source": [
    "#### Tensor Operations\n",
    "- http://pytorch.org/docs\n",
    "\n",
    "\n",
    "- *Creation ops*: Constructors for tensors. ```ones```, ```from_numpy```\n",
    "- *Indexing, slicing, joining, mutating ops*: Changing the shape, stride, or content of a tensor. ```tranpose```\n",
    "- *Math ops*: Functions for manipulating the content of tensors through computations\n",
    "    - *Pointwise ops*: Functions for obtaining a new tensor by applying a function to each element independently. ```abs```, ```cos```\n",
    "    - *Reduction ops*: Functions for computing aggregate values by iterating through tensors. ```mean```, ```norm```\n",
    "    - *Comparison ops*: Functions for evaluating numerical predicates over tensors. ```equal```, ```max```\n",
    "    - *Spectral ops*: Functions for transforming in and operating in the frequency domain. ```stft```, ```hamming_window```\n",
    "    - *Other operations*: Special Functions operating on vectors, ```cross```, or matrices, ```trace```.\n",
    "    - *BLAS and LAPACK operations*: Functions following Basic Linear Algebra Subprograms (BLAS) specification for scalar, vector-vector, matrix-vector, and matrix-matrix operations.\n",
    "- *Random sampling*: Functions for generating values by drawing randomly from probability distributions. ```randn```, ```normal```\n",
    "- *Serialization*: Functions for saving and loading tensors. ```load```, ```save```\n",
    "- *Parallelism*: Functions for controlling the number of threads for parallel CPU execution. ```set_num_threads```"
   ]
  },
  {
   "cell_type": "markdown",
   "id": "8804b19b",
   "metadata": {},
   "source": [
    "### Tensors, scenic views of storage\n",
    "- Tensors are contiguous chunks of memory managed by ```torch.Storage``` instances.\n",
    "- A storage is a 1D array of numerical data: This is the contiguous block of memory containing containing numbers of a given type\n",
    "- A PyTorch ```Tensor``` instance is a view of such a ```Storage``` instance that is capable of indexing into that storage using using an offset and per-dimension strides.\n",
    "- Multiple Tensors can index the same storage even if they index the data differently\n",
    "- The underlying memory is only allocated onces, yet alternate views of the data can be generated quickly regardless of the size of the data managed by the ```Storage``` instance"
   ]
  },
  {
   "cell_type": "markdown",
   "id": "674b6f0f",
   "metadata": {},
   "source": [
    "#### Indexing into storage"
   ]
  },
  {
   "cell_type": "code",
   "execution_count": 81,
   "id": "e92df1a4",
   "metadata": {
    "scrolled": true
   },
   "outputs": [
    {
     "name": "stdout",
     "output_type": "stream",
     "text": [
      "tensor([[4., 1.],\n",
      "        [5., 3.],\n",
      "        [2., 1.]])\n",
      "torch.Size([3, 2]) \n",
      "\n",
      " 4.0\n",
      " 1.0\n",
      " 5.0\n",
      " 3.0\n",
      " 2.0\n",
      " 1.0\n",
      "[torch.FloatStorage of size 6]\n"
     ]
    }
   ],
   "source": [
    "points = torch.tensor([[4.0, 1.0], [5.0, 3.0], [2.0, 1.0]])\n",
    "print(points)\n",
    "print(points.shape, '\\n')\n",
    "print(points.storage()) # Storage is a contiguous 1D Array"
   ]
  },
  {
   "cell_type": "code",
   "execution_count": 83,
   "id": "a05d29e8",
   "metadata": {},
   "outputs": [
    {
     "name": "stdout",
     "output_type": "stream",
     "text": [
      "4.0\n"
     ]
    }
   ],
   "source": [
    "# Indexing storage\n",
    "points_storage = points.storage()\n",
    "print(points_storage[0])"
   ]
  },
  {
   "cell_type": "code",
   "execution_count": null,
   "id": "bcaf7d6b",
   "metadata": {},
   "outputs": [],
   "source": []
  }
 ],
 "metadata": {
  "kernelspec": {
   "display_name": "Python 3 (ipykernel)",
   "language": "python",
   "name": "python3"
  },
  "language_info": {
   "codemirror_mode": {
    "name": "ipython",
    "version": 3
   },
   "file_extension": ".py",
   "mimetype": "text/x-python",
   "name": "python",
   "nbconvert_exporter": "python",
   "pygments_lexer": "ipython3",
   "version": "3.9.12"
  }
 },
 "nbformat": 4,
 "nbformat_minor": 5
}
