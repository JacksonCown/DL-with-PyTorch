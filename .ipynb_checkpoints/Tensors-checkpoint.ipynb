{
 "cells": [
  {
   "cell_type": "markdown",
   "id": "78dbba4b",
   "metadata": {},
   "source": [
    "# Tensor Basics"
   ]
  },
  {
   "cell_type": "code",
   "execution_count": 1,
   "id": "bd281ae6",
   "metadata": {},
   "outputs": [],
   "source": [
    "import numpy as np\n",
    "\n",
    "import torch\n",
    "import torch.nn as nn\n",
    "import torch.nn.functional as F\n",
    "import torch.optim as optim"
   ]
  },
  {
   "cell_type": "markdown",
   "id": "e7e3505f",
   "metadata": {},
   "source": [
    "## Creating Tensors"
   ]
  },
  {
   "cell_type": "markdown",
   "id": "2a87c1e8",
   "metadata": {},
   "source": [
    "#### Starting with native lists"
   ]
  },
  {
   "cell_type": "code",
   "execution_count": 24,
   "id": "70207978",
   "metadata": {},
   "outputs": [
    {
     "name": "stdout",
     "output_type": "stream",
     "text": [
      "Native Python List: [1.0, 2.0, 1.0]\n",
      "\n",
      "First Element: 1.0\n",
      "Second Element: 2.0\n",
      "Third Element: 1.0\n",
      "Last Element: 1.0\n",
      "\n",
      "Updated List: [1.0, 2.0, 3.0]\n"
     ]
    }
   ],
   "source": [
    "# Starting with a basic python list, then moving to torch tensors\n",
    "a_list = [1.0, 2.0, 1.0]\n",
    "print(f'Native Python List: {a_list}\\n')\n",
    "\n",
    "# List index syntax\n",
    "print(f'First Element: {a_list[0]}')\n",
    "print(f'Second Element: {a_list[1]}')\n",
    "print(f'Third Element: {a_list[2]}')\n",
    "\n",
    "# Update Python List\n",
    "a_list[2] = 3.0\n",
    "print(f'\\nUpdated List: {a_list}')\n",
    "print(f'Last Element: {a_list[-1]}')"
   ]
  },
  {
   "cell_type": "markdown",
   "id": "ac4b5914",
   "metadata": {},
   "source": [
    "#### Constructing our first tensors"
   ]
  },
  {
   "cell_type": "code",
   "execution_count": 29,
   "id": "ce9e2a16",
   "metadata": {
    "scrolled": true
   },
   "outputs": [
    {
     "name": "stdout",
     "output_type": "stream",
     "text": [
      "Torch Tensor: tensor([1., 1., 1.])\n",
      "\n",
      "First Element: 1.0\n",
      "Second Element: 1.0\n",
      "Third Element: 1.0\n"
     ]
    }
   ],
   "source": [
    "# Basic torch tensor\n",
    "a_tensor = torch.ones(3) # populate 1d tensor of size 3\n",
    "print(f'Torch Tensor: {a_tensor}\\n')\n",
    "\n",
    "# Tensor index syntax - note that f-strings autoconvert to float\n",
    "print(f'First Element: {a_tensor[0]}')\n",
    "print(f'Second Element: {a_tensor[1]}')\n",
    "print(f'Third Element: {a_tensor[2]}')"
   ]
  },
  {
   "cell_type": "code",
   "execution_count": 30,
   "id": "e2546bf9",
   "metadata": {},
   "outputs": [
    {
     "name": "stdout",
     "output_type": "stream",
     "text": [
      "tensor(1.)\n",
      "1.0\n",
      "\n",
      "Updated Tensor: tensor([1., 1., 2.])\n",
      "Last Element: 2.0\n"
     ]
    }
   ],
   "source": [
    "# Once again, note how the behavior differs without the f-string syntax\n",
    "print(a_tensor[1])\n",
    "print(float(a_tensor[1]))\n",
    "\n",
    "# Indexed assignment for tensors\n",
    "a_tensor[2] = 2.0\n",
    "print(f'\\nUpdated Tensor: {a_tensor}')\n",
    "print(f'Last Element: {a_tensor[-1]}')"
   ]
  },
  {
   "cell_type": "markdown",
   "id": "0f7a2cab",
   "metadata": {},
   "source": [
    "#### Tensor Aside:\n",
    "- PyTorch Tensors allow us to manipulate and maintain collections of floating-point numbers\n",
    "- They provide convenient structure for generating unique intermediate representations of data during the forward process\n",
    "- Tensors are the fundamental building block of PyTorch. By mimicking the numpy API, they provide easy to use representations of floating-point data that allow for highspeed operations on contiguous memory.\n",
    "\n",
    "- A few notable tensor capabilities:\n",
    "    - Ability to perform fast operations on GPUs\n",
    "    - Distribute operations on multiple devices or machines\n",
    "    - Keep track of the computation graph that created the respective tensor, which is essential for AutoGrad\n"
   ]
  },
  {
   "cell_type": "code",
   "execution_count": null,
   "id": "041e2ee0",
   "metadata": {},
   "outputs": [],
   "source": []
  }
 ],
 "metadata": {
  "kernelspec": {
   "display_name": "Python 3 (ipykernel)",
   "language": "python",
   "name": "python3"
  },
  "language_info": {
   "codemirror_mode": {
    "name": "ipython",
    "version": 3
   },
   "file_extension": ".py",
   "mimetype": "text/x-python",
   "name": "python",
   "nbconvert_exporter": "python",
   "pygments_lexer": "ipython3",
   "version": "3.9.12"
  }
 },
 "nbformat": 4,
 "nbformat_minor": 5
}
